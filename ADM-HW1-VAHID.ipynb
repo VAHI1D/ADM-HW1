{
 "cells": [
  {
   "cell_type": "code",
   "execution_count": null,
   "id": "862d3cbd-572d-4695-bb00-2dfb1a5e79bc",
   "metadata": {},
   "outputs": [],
   "source": [
    "print(\"Hello, World!\")"
   ]
  },
  {
   "cell_type": "code",
   "execution_count": null,
   "id": "0116d700-fb36-4251-b8dd-05d4c0b08497",
   "metadata": {},
   "outputs": [],
   "source": [
    "import math\n",
    "import os\n",
    "import random\n",
    "import re\n",
    "import sys\n",
    "\n",
    "def _analysis(n):\n",
    "    if (n % 2 != 0):\n",
    "        return \"Weird\"\n",
    "    if(n>=2 and n<=5 ):\n",
    "        return \"Not Weird\"\n",
    "    if(n>=6 and n<=20):\n",
    "        return \"Weird\"\n",
    "    if(n>=20):\n",
    "        return \"Not Weird\"        \n",
    "n = int(input().strip())\n",
    "if (n>=1 and n<=100):\n",
    "    print(_analysis(n))"
   ]
  },
  {
   "cell_type": "code",
   "execution_count": null,
   "id": "279e2c36-fd24-4ef3-a267-6b8b32e2e73a",
   "metadata": {},
   "outputs": [],
   "source": [
    "a = int(input())\n",
    "b = int(input())\n",
    "print(a+b)\n",
    "print(a-b)\n",
    "print(a*b)"
   ]
  },
  {
   "cell_type": "code",
   "execution_count": null,
   "id": "fce9b93d-521c-4ec3-be72-bad6b8391cf5",
   "metadata": {},
   "outputs": [],
   "source": [
    "a = int(input())\n",
    "b = int(input())\n",
    "print(a//b)\n",
    "print(a/b)"
   ]
  },
  {
   "cell_type": "code",
   "execution_count": null,
   "id": "b0568cde-13e3-4c02-95c1-10e3c2d777e2",
   "metadata": {},
   "outputs": [],
   "source": [
    "n = int(input())\n",
    "for i in range(n):\n",
    "    print(i**2)"
   ]
  },
  {
   "cell_type": "code",
   "execution_count": null,
   "id": "9560cb89-b341-4529-bb79-24ad15d86f0a",
   "metadata": {},
   "outputs": [],
   "source": [
    "def is_leap(year):\n",
    "    leap = False\n",
    "    if(year%4 == 0):\n",
    "        leap=True\n",
    "    if(year%100==0):\n",
    "        leap=False\n",
    "    if(year%400==0):\n",
    "        leap=True\n",
    "    return leap"
   ]
  },
  {
   "cell_type": "code",
   "execution_count": null,
   "id": "7fcc872f-a4fd-4355-b6ff-544a9cf59af6",
   "metadata": {},
   "outputs": [],
   "source": [
    "n = int(input())\n",
    "numbers=[]\n",
    "for i in range(n):\n",
    "    print(i+1,end='')"
   ]
  },
  {
   "cell_type": "code",
   "execution_count": null,
   "id": "17fcbd94-4bd1-4001-be79-90604cfeb0a3",
   "metadata": {},
   "outputs": [],
   "source": [
    "x = int(input())\n",
    "y = int(input())\n",
    "z = int(input())\n",
    "n = int(input())\n",
    "print([[i, j, k] \n",
    "for i in range(x + 1) for j in range(y + 1) for k in range(z + 1) if i + j + k != n])"
   ]
  },
  {
   "cell_type": "code",
   "execution_count": null,
   "id": "8333f872-3725-44db-a855-606ebdd0ab97",
   "metadata": {},
   "outputs": [],
   "source": [
    "n = int(input())\n",
    "arr = map(int, input().split())\n",
    "my_list = list(set(arr))\n",
    "my_list.sort()\n",
    "if len(my_list) == 1:\n",
    "    print(my_list[0])\n",
    "elif len(my_list) >= 2:\n",
    "    print(my_list[-2])"
   ]
  },
  {
   "cell_type": "code",
   "execution_count": null,
   "id": "12cb0206-0fc3-45d7-b6f6-de0887887f39",
   "metadata": {},
   "outputs": [],
   "source": [
    "sol=[]\n",
    "for _ in range(int(raw_input())):\n",
    "    name=raw_input()\n",
    "    score=float(input())\n",
    "    sol.append([name,score])\n",
    "a = sorted(list(set([scores for names, scores in sol])))[1]\n",
    "for n,m in sorted(sol):\n",
    "if m==a:\n",
    "    print('{}'.format(n))"
   ]
  },
  {
   "cell_type": "code",
   "execution_count": null,
   "id": "c171a9c6-b5d1-4496-bc71-11ca9d534e54",
   "metadata": {},
   "outputs": [],
   "source": [
    "n = int(input())\n",
    "student_marks = {}\n",
    "for _ in range(n):\n",
    "    name, *line = input().split()\n",
    "    scores = list(map(float, line))\n",
    "    student_marks[name] = scores\n",
    "query_name = input()\n",
    "print(\"%.2f\" %(sum(student_marks[query_name])/len(student_marks[query_name])))"
   ]
  },
  {
   "cell_type": "code",
   "execution_count": null,
   "id": "7235b5d8-ebbe-4574-8ff5-179f55e643e5",
   "metadata": {},
   "outputs": [],
   "source": [
    "n = input()\n",
    "print(n)\n",
    "l = []\n",
    "for _ in range(int(n)):\n",
    "    s = input().split()\n",
    "    cmd = s[0]\n",
    "    args = s[1:]\n",
    "    if cmd !=\"print\":\n",
    "        cmd += \"(\"+ \",\".join(args) +\")\"\n",
    "        eval(\"l.\"+cmd)\n",
    "    else:\n",
    "        print (l)"
   ]
  },
  {
   "cell_type": "code",
   "execution_count": null,
   "id": "50234740-1c66-42f8-bc7f-88dc64b506fc",
   "metadata": {},
   "outputs": [],
   "source": [
    "n = int(input())\n",
    "integer_list = list(map(int, input().split()))\n",
    "t = tuple(integer_list)\n",
    "print(hash(t))"
   ]
  },
  {
   "cell_type": "code",
   "execution_count": null,
   "id": "3fc5c8c2-be8f-49a8-8441-38770f2c3f4b",
   "metadata": {},
   "outputs": [],
   "source": [
    "def swap_case(s):\n",
    "    return s.swapcase()"
   ]
  },
  {
   "cell_type": "code",
   "execution_count": null,
   "id": "d6133cde-a4dc-49e8-a5c8-ff2f78e54ea5",
   "metadata": {},
   "outputs": [],
   "source": [
    "def split_and_join(line):\n",
    "    T = line.split(\" \")\n",
    "    return (\"-\".join(T))"
   ]
  },
  {
   "cell_type": "code",
   "execution_count": null,
   "id": "0a088e19-91d2-4c02-bce4-e9241aaf55e1",
   "metadata": {},
   "outputs": [],
   "source": [
    "def print_full_name(a, b):\n",
    "    print (\"Hello\", a, b + \"! You just delved into python.\")"
   ]
  },
  {
   "cell_type": "code",
   "execution_count": null,
   "id": "981e9c56-9708-4b87-9a99-e1aac10fb02a",
   "metadata": {},
   "outputs": [],
   "source": [
    "def mutate_string(string, position, character):\n",
    "    string=list(string)\n",
    "    string[position]=character\n",
    "    string=\"\".join(string)\n",
    "    return string"
   ]
  },
  {
   "cell_type": "code",
   "execution_count": null,
   "id": "e1a02590-126e-4454-9253-39ada2ff5aec",
   "metadata": {},
   "outputs": [],
   "source": [
    "def count_substring(string, sub_string):\n",
    "    count = start = 0\n",
    "    while True:\n",
    "        start = string.find(sub_string, start) + 1\n",
    "        if start > 0:\n",
    "            count+=1\n",
    "        else:\n",
    "            return count"
   ]
  },
  {
   "cell_type": "code",
   "execution_count": null,
   "id": "efa3086c-29e0-45a2-82d8-7de34797eb90",
   "metadata": {},
   "outputs": [],
   "source": [
    "s = raw_input()\n",
    "    for method in [str.isalnum, str.isalpha, str.isdigit, str.islower, str.isupper]:\n",
    "        print(any(method(c) for c in s))"
   ]
  },
  {
   "cell_type": "code",
   "execution_count": null,
   "id": "415e2815-619a-49fe-914f-353aafc48e4f",
   "metadata": {},
   "outputs": [],
   "source": [
    "thickness = int(input())\n",
    "c = 'H'\n",
    "for i in range(thickness):\n",
    "    print((c*i).rjust(thickness-1)+c+(c*i).ljust(thickness-1))\n",
    "for i in range(thickness+1):\n",
    "    print((c*thickness).center(thickness*2)+(c*thickness).center(thickness*6))\n",
    "for i in range((thickness+1)//2):\n",
    "    print((c*thickness*5).center(thickness*6))    \n",
    "for i in range(thickness+1):\n",
    "    print((c*thickness).center(thickness*2)+(c*thickness).center(thickness*6))    \n",
    "for i in range(thickness):\n",
    "    print(((c*(thickness-i-1)).rjust(thickness)+c+(c*(thickness-i-1)).ljust(thickness)).rjust(thickness*6))"
   ]
  },
  {
   "cell_type": "code",
   "execution_count": null,
   "id": "19826b23-842f-4c63-bd9e-1c611848df6e",
   "metadata": {},
   "outputs": [],
   "source": [
    "def wrap(string, max_width):\n",
    "    return (textwrap.fill(string, max_width))"
   ]
  },
  {
   "cell_type": "code",
   "execution_count": null,
   "id": "506ab9d3-19d7-4aa2-a69c-3ba0b2a463f8",
   "metadata": {},
   "outputs": [],
   "source": [
    "N, M = map(int,raw_input().split())\n",
    "for i in range(1,N,2): \n",
    "    print((i * \".|.\").center(M, \"-\"))\n",
    "print(\"WELCOME\".center(M,\"-\"))\n",
    "for i in range(N-2,-1,-2): \n",
    "    print((i * \".|.\").center(M, \"-\"))"
   ]
  },
  {
   "cell_type": "code",
   "execution_count": null,
   "id": "d376c639-2ccc-4cf4-97bc-604480c886eb",
   "metadata": {},
   "outputs": [],
   "source": [
    "def print_formatted(number):\n",
    "    width = len(\"{0:b}\".format(number))\n",
    "\n",
    "    for i in range(1, number + 1):\n",
    "        print(\"{0:{w}d} {0:{w}o} {0:{w}X} {0:{w}b}\".format(i, w = width))"
   ]
  },
  {
   "cell_type": "code",
   "execution_count": null,
   "id": "146b07e6-83b8-43c2-87c5-5c84aee9d5db",
   "metadata": {},
   "outputs": [],
   "source": [
    "import string\n",
    "\n",
    "def print_rangoli(size):\n",
    "    alpha = string.ascii_lowercase\n",
    "    l = []\n",
    "    for i in range(size):\n",
    "        s = \"-\".join(alpha[i:size])\n",
    "        l.append((s[::-1]+s[1:]).center(4*size-3, \"-\"))\n",
    "    print(('\\n'.join(l[:0:-1]+l)))"
   ]
  },
  {
   "cell_type": "code",
   "execution_count": null,
   "id": "79c8dd74-92f8-4021-aaf7-ba48ab35289e",
   "metadata": {},
   "outputs": [],
   "source": [
    "def solve(s):\n",
    "l=[]\n",
    "for i in range(len(s)):\n",
    "    l.append(str(s[i]))\n",
    "    l[0]=l[0].upper()\n",
    "    for i in range(len(l)):\n",
    "        if l[i]==\" \":\n",
    "            l[i+1]=l[i+1].upper()\n",
    "    t=\"\".join(l)\n",
    "    return t"
   ]
  },
  {
   "cell_type": "code",
   "execution_count": null,
   "id": "8b4b75be-5d60-444a-81a3-d1eda0e7b818",
   "metadata": {},
   "outputs": [],
   "source": [
    "def minion_game(string):\n",
    "    vowels = {'A','E','I','O','U'}\n",
    "    kevin = 0\n",
    "    stuart = 0\n",
    "    for i in range(len(string)):\n",
    "        if string[i] in vowels:\n",
    "            kevin += len(string) - i\n",
    "        else:\n",
    "            stuart += len(string) - i\n",
    "\n",
    "    if kevin == stuart:\n",
    "        print(\"Draw\")\n",
    "    elif kevin > stuart:\n",
    "        print(\"Kevin \" + str(kevin))\n",
    "    else:\n",
    "        print(\"Stuart \" + str(stuart))"
   ]
  },
  {
   "cell_type": "code",
   "execution_count": null,
   "id": "02c352b0-0eba-4c39-96bd-ddff20988c01",
   "metadata": {},
   "outputs": [],
   "source": [
    "def merge_the_tools(string, k):\n",
    "    for i in range(0,len(string), k):\n",
    "        line = string[i:i+k]\n",
    "        new = \"\"\n",
    "        for i in line:\n",
    "            if i not in new:\n",
    "                new+=i\n",
    "        print(new)"
   ]
  },
  {
   "cell_type": "code",
   "execution_count": null,
   "id": "e4c58ad4-b5a7-4f43-a76c-fb8c774f578e",
   "metadata": {},
   "outputs": [],
   "source": [
    "def average(array):\n",
    "    b = set(array)\n",
    "    return sum(b)/len(b)"
   ]
  },
  {
   "cell_type": "code",
   "execution_count": null,
   "id": "5b9e6c5a-2341-4050-838d-a64c3f0d0abe",
   "metadata": {},
   "outputs": [],
   "source": [
    "n_m = input().split()\n",
    "n_m = map(int, n_m)\n",
    "n = map(int, input().split())\n",
    "A = set(map(int, input().split()))\n",
    "B = set(map(int, input().split()))\n",
    "\n",
    "counter = 0\n",
    "for i in n:\n",
    "    if i in A:\n",
    "        counter += 1\n",
    "    elif i in B:\n",
    "        counter -= 1\n",
    "\n",
    "print (counter)"
   ]
  },
  {
   "cell_type": "code",
   "execution_count": null,
   "id": "6410f402-de00-48c3-a3a0-88349675b4b7",
   "metadata": {},
   "outputs": [],
   "source": [
    "int(input())\n",
    "N = input().split()\n",
    "Nint = set(list(map(int, N)))\n",
    "int(input())\n",
    "M = input().split()\n",
    "Mint = set(list(map(int, M)))\n",
    "res = []\n",
    "for i in list(Nint.difference(Mint)):\n",
    "    res.append(i)\n",
    "for j in list(Mint.difference(Nint)):\n",
    "    res.append(j)\n",
    "for k in sorted(res):\n",
    "    print (k)"
   ]
  },
  {
   "cell_type": "code",
   "execution_count": null,
   "id": "930166e3-50c2-454d-addc-dedcd2f19283",
   "metadata": {},
   "outputs": [],
   "source": [
    "N = int(input())\n",
    "s = set(input() for i in range(N))\n",
    "print (len(s))"
   ]
  },
  {
   "cell_type": "code",
   "execution_count": null,
   "id": "55183f85-8d6c-4254-84a1-a419c75af81f",
   "metadata": {},
   "outputs": [],
   "source": [
    "n = int(input())\n",
    "s = set([int(x) for x in input().strip().split()]) \n",
    "for _ in range(int(input())):\n",
    "    a = list(input().strip().split())\n",
    "    if a[0] == 'pop':\n",
    "        s.pop()\n",
    "    elif a[0] == 'discard':\n",
    "        s.discard(int(a[1]))\n",
    "    else:\n",
    "        s.remove(int(a[1]))\n",
    "print (sum(s))  "
   ]
  },
  {
   "cell_type": "code",
   "execution_count": null,
   "id": "5f53aa02-f0c5-462f-98f4-3005aa408e7f",
   "metadata": {},
   "outputs": [],
   "source": [
    "e = input()\n",
    "el = set(map(int,input().split()))\n",
    "f = input()\n",
    "fl = set(map(int,input().split()))\n",
    "u = el.union(fl)\n",
    "print (len(u))"
   ]
  },
  {
   "cell_type": "code",
   "execution_count": null,
   "id": "33c9239b-57f0-4b19-b6b6-d4af27630014",
   "metadata": {},
   "outputs": [],
   "source": [
    "n= int(input())\n",
    "stun = set(input().split())\n",
    "b = int(input())\n",
    "stub = set(input().split())\n",
    "print (len(stun.intersection(stub)))"
   ]
  },
  {
   "cell_type": "code",
   "execution_count": null,
   "id": "c6a0725a-e2c0-4fc3-b2ee-9a1015ade9e9",
   "metadata": {},
   "outputs": [],
   "source": [
    "n= int(input())\n",
    "stun = set(input().split())\n",
    "b = int(input())\n",
    "stub = set(input().split())\n",
    "print (len(stun-(stub)))"
   ]
  },
  {
   "cell_type": "code",
   "execution_count": null,
   "id": "5cbeb170-5747-4f27-9312-5750f29bf1ae",
   "metadata": {},
   "outputs": [],
   "source": [
    "n= int(input())\n",
    "stun = set(input().split())\n",
    "b = int(input())\n",
    "stub = set(input().split())\n",
    "print (len(stun^(stub)))"
   ]
  },
  {
   "cell_type": "code",
   "execution_count": null,
   "id": "62ff4bb5-acfc-469c-89ab-bd5f0d7d9c88",
   "metadata": {},
   "outputs": [],
   "source": [
    "a = int(input())\n",
    "A = set(map(int, input().split()))\n",
    "for i in range(int(input())):\n",
    "    s, b = input().split()\n",
    "    if s == 'intersection_update':\n",
    "        A &= set(map(int, input().split()))\n",
    "    elif s == 'update':\n",
    "        A |= set(map(int, input().split()))\n",
    "    elif s == 'symmetric_difference_update':\n",
    "        A ^= set(map(int, input().split()))\n",
    "    else:\n",
    "        A -= set(map(int, input().split()))\n",
    "print (sum(A) )"
   ]
  },
  {
   "cell_type": "code",
   "execution_count": null,
   "id": "76e5d6cc-a144-441b-b538-3cb4e7b06464",
   "metadata": {},
   "outputs": [],
   "source": [
    "a = int(input())\n",
    "gruppy = list(map(int, input().split()))\n",
    "grappy = set(gruppy)\n",
    "B = sum(grappy)*a - sum(gruppy) \n",
    "print(B//(a-1))"
   ]
  },
  {
   "cell_type": "code",
   "execution_count": null,
   "id": "3fec67a2-ea13-4399-a9c1-c1e1a3c5eb18",
   "metadata": {},
   "outputs": [],
   "source": [
    "for i in range(int(input())): \n",
    "    a = int(input())\n",
    "    A = set(input().split()) \n",
    "    b = int(input())\n",
    "    B = set(input().split())\n",
    "    print(A <= B)\n",
    "    True"
   ]
  },
  {
   "cell_type": "code",
   "execution_count": null,
   "id": "ba838df8-3b44-4890-a3b8-6af162c1c0cb",
   "metadata": {},
   "outputs": [],
   "source": [
    "SS = set(input().split())\n",
    "n = int(input())\n",
    "K = True\n",
    "for i in range(n):\n",
    "    ss = set(input().split())\n",
    "    #check if is not a subset or if the lenght of the two sets is equal\n",
    "    if ss.issubset(SS)== False or len(ss)==len(SS):\n",
    "        K=False\n",
    "print(K)"
   ]
  },
  {
   "cell_type": "code",
   "execution_count": null,
   "id": "75ff0365-6eaf-4b8a-b2aa-7897801d147a",
   "metadata": {},
   "outputs": [],
   "source": [
    "from collections import Counter\n",
    "X = int(input())\n",
    "N = map(int,input().split())\n",
    "x = int(input())\n",
    "L = map(tuple,(map(int,input().split()) for _ in range(x)))\n",
    "n = Counter(N)\n",
    "p =0\n",
    "for i in L:\n",
    "    if i[0] in n.keys() and n[i[0]] >0 :\n",
    "        n[i[0]] = n[i[0]]-1\n",
    "        p = p+i[1]\n",
    "        \n",
    "print(p)"
   ]
  },
  {
   "cell_type": "code",
   "execution_count": null,
   "id": "d4a5bcb3-fd0a-42a1-a258-e9cb5c881a50",
   "metadata": {},
   "outputs": [],
   "source": [
    "from collections import defaultdict\n",
    "d = defaultdict(list)\n",
    "a, b = map(int, input().split())\n",
    "for i in range(a):\n",
    "    d[input()].append(str(i+1))\n",
    "#print(d)\n",
    "for j in range(b):\n",
    "    k = input()\n",
    "    if d[k]:\n",
    "        print(' '.join(d[k]))\n",
    "    else:\n",
    "        print(-1)"
   ]
  },
  {
   "cell_type": "code",
   "execution_count": null,
   "id": "0af73c5a-e7c0-4329-9e0e-8f9529032878",
   "metadata": {},
   "outputs": [],
   "source": [
    "from collections import namedtuple\n",
    "N = int(input())\n",
    "average = 0\n",
    "Tup = namedtuple('ST',input().split())\n",
    "#print(Tup)\n",
    "for i in range(N): \n",
    "    a = Tup(*input().split()) #this * that unpacks is very cool just discovered because without would not work\n",
    "    #+print(a.MARKS)\n",
    "    average+=int(a.MARKS)\n",
    "print(average/N)"
   ]
  },
  {
   "cell_type": "code",
   "execution_count": null,
   "id": "4b220bb8-5e51-4b0c-ac14-4a1977121530",
   "metadata": {},
   "outputs": [],
   "source": [
    "from collections import OrderedDict\n",
    "od = OrderedDict()\n",
    "nit = int(input())\n",
    "for i in range(nit):\n",
    "    l = list(input().split())\n",
    "    if len(l)>2:\n",
    "        price = int(l[2])\n",
    "        it = l[0]+' '+l[1]\n",
    "    else:\n",
    "        price= int(l[1])\n",
    "        it=l[0]\n",
    "    if (it) in od:\n",
    "        od[it]+=price\n",
    "    else:\n",
    "            od[it]=int(price)\n",
    "for k, v in od.items():\n",
    "    print(k,v)"
   ]
  },
  {
   "cell_type": "code",
   "execution_count": null,
   "id": "10a6b6d3-66fd-439a-95a9-130dca7548db",
   "metadata": {},
   "outputs": [],
   "source": [
    "from collections import OrderedDict\n",
    "od = OrderedDict()\n",
    "nit = int(input())\n",
    "K=0\n",
    "for i in range(nit):\n",
    "    l = input()\n",
    "    if l in od:\n",
    "        od[l]+=1\n",
    "    else:\n",
    "        od[l]=int(1)\n",
    "        K=K+1\n",
    "print(K)\n",
    "print(*od.values())"
   ]
  },
  {
   "cell_type": "code",
   "execution_count": null,
   "id": "ca7819e5-964e-4c64-ae72-d91752a4da8e",
   "metadata": {},
   "outputs": [],
   "source": [
    "from collections import deque\n",
    "d = deque()\n",
    "n = int(input())\n",
    "for i in range(n):\n",
    "    k = list(input().split()) #print(k)\n",
    "    if k[0]=='append':\n",
    "        d.append(int(k[1]))\n",
    "    elif k[0]=='popleft':\n",
    "        d.popleft()\n",
    "    elif k[0]=='pop':\n",
    "        d.pop()\n",
    "    elif k[0]=='appendleft':\n",
    "        d.appendleft(int(k[1]))\n",
    "print(*d)"
   ]
  },
  {
   "cell_type": "code",
   "execution_count": null,
   "id": "4871ce7d-05d7-48ea-89de-a4db96ddfa53",
   "metadata": {},
   "outputs": [],
   "source": [
    "import math\n",
    "import os\n",
    "import random\n",
    "import re\n",
    "import sys\n",
    "from collections import OrderedDict\n",
    "#from collections import Counter\n",
    "\n",
    "from collections import Counter, OrderedDict\n",
    "\n",
    "if __name__ == '__main__':\n",
    "    s = input()\n",
    "    a = list(s)\n",
    "    #print(a)\n",
    "    od = Counter(sorted(a))\n",
    "    y = OrderedDict(od.most_common())\n",
    "    #print(y)\n",
    "    i =0\n",
    "    for key,value in y.items():\n",
    "        if(i<3):\n",
    "            print(key, value)\n",
    "            i=i+1"
   ]
  },
  {
   "cell_type": "code",
   "execution_count": null,
   "id": "ef78b989-b9bb-4242-b493-c66a46a21b71",
   "metadata": {},
   "outputs": [],
   "source": [
    "Piling Up!>>"
   ]
  },
  {
   "cell_type": "code",
   "execution_count": null,
   "id": "f2346b22-ddb8-4e2b-8f1c-c8abdeb33ab4",
   "metadata": {},
   "outputs": [],
   "source": [
    "import datetime\n",
    "import calendar\n",
    "m, d, y = map(int, input().split())\n",
    "input_date = datetime.date(y, m, d)\n",
    "print(calendar.day_name[input_date.weekday()].upper())"
   ]
  },
  {
   "cell_type": "code",
   "execution_count": null,
   "id": "3519aa92-4750-4c3b-98e3-bfc96e5f8dfc",
   "metadata": {},
   "outputs": [],
   "source": [
    "import math\n",
    "import os\n",
    "import random\n",
    "import re\n",
    "import sys\n",
    "from datetime import datetime\n",
    "\n",
    "def time_delta(t1, t2):\n",
    "    time_format = '%a %d %b %Y %H:%M:%S %z'\n",
    "    t1 = datetime.strptime(t1, time_format)\n",
    "    t2 = datetime.strptime(t2, time_format)\n",
    "    return str(int(abs((t1-t2).total_seconds())))\n",
    "\n",
    "if __name__ == '__main__':\n",
    "    fptr = open(os.environ['OUTPUT_PATH'], 'w')\n",
    "\n",
    "    t = int(input())\n",
    "\n",
    "    for t_itr in range(t):\n",
    "        t1 = input()\n",
    "\n",
    "        t2 = input()\n",
    "\n",
    "        delta = time_delta(t1, t2)\n",
    "\n",
    "        fptr.write(delta + '\\n')\n",
    "    \n",
    "    fptr.close()"
   ]
  },
  {
   "cell_type": "code",
   "execution_count": null,
   "id": "7f11b347-f232-4f7c-b604-90329129af23",
   "metadata": {},
   "outputs": [],
   "source": [
    "a = int(input())\n",
    "for i in range(a):\n",
    "    try:\n",
    "        t,s = map(int,input().split())\n",
    "        print (t//s)\n",
    "    except ZeroDivisionError as e:      \n",
    "        print (\"Error Code:\",e)\n",
    "    except ValueError as e:      \n",
    "        print (\"Error Code:\",e)"
   ]
  },
  {
   "cell_type": "code",
   "execution_count": null,
   "id": "1dff6ffb-21aa-4255-a52e-6f074fefe602",
   "metadata": {},
   "outputs": [],
   "source": [
    "N, K = map(int,input().split())\n",
    "H=[]\n",
    "for i in range(K):\n",
    "    L = map(float, input().split())\n",
    "    H.append(L)\n",
    "Z = zip(*H)\n",
    "for i in Z:\n",
    "    print(sum(i)/K)"
   ]
  },
  {
   "cell_type": "code",
   "execution_count": null,
   "id": "69391811-ea43-4bf8-ba8f-895042b9881c",
   "metadata": {},
   "outputs": [],
   "source": [
    "from operator import itemgetter\n",
    "import math\n",
    "import os\n",
    "import random\n",
    "import re\n",
    "import sys\n",
    "\n",
    "if __name__ == '__main__':\n",
    "    nm = input().split()\n",
    "\n",
    "    n = int(nm[0])\n",
    "\n",
    "    m = int(nm[1])\n",
    "\n",
    "    arr = []\n",
    "\n",
    "    for _ in range(n):\n",
    "        arr.append(list(map(int, input().rstrip().split())))\n",
    "\n",
    "    k = int(input())\n",
    "    final = sorted(arr, key=itemgetter(k))\n",
    "    for i in final:\n",
    "        print(*i)"
   ]
  },
  {
   "cell_type": "code",
   "execution_count": null,
   "id": "9d869fa7-4229-4dd5-8ef4-d9445ece2128",
   "metadata": {},
   "outputs": [],
   "source": [
    "import numpy as np\n",
    "n, m = map(int,input().split())\n",
    "data = []\n",
    "for i in range(n):\n",
    "    temp = list(map(int, input().split()))\n",
    "    data.append(temp)\n",
    "data = np.array(data)\n",
    "print(np.mean(data, axis = 1))\n",
    "print(np.var(data, axis = 0))\n",
    "print(round(np.std(data), 11))"
   ]
  },
  {
   "cell_type": "code",
   "execution_count": null,
   "id": "d4493d78-907c-477c-8d1d-640302d8fae8",
   "metadata": {},
   "outputs": [],
   "source": [
    "string = str(input())\n",
    "k = list(string)\n",
    "low=[]\n",
    "Up=[]\n",
    "Numpa=[]\n",
    "Numdi=[]\n",
    "for i in k:\n",
    "    if i.isdigit():\n",
    "        if(int(i)%2==0):\n",
    "            Numpa.append(i)\n",
    "        else:\n",
    "            Numdi.append(i)\n",
    "    elif i.isalpha:\n",
    "        if i.isupper():\n",
    "            Up.append(i)\n",
    "        else:\n",
    "            low.append(i)\n",
    "low.sort()\n",
    "Up.sort()\n",
    "Numpa.sort()\n",
    "Numdi.sort()\n",
    "A = low+Up+Numdi+Numpa\n",
    "print(''.join(A))"
   ]
  },
  {
   "cell_type": "code",
   "execution_count": null,
   "id": "b17d7442-6c7d-48c0-9f42-33f7677afa25",
   "metadata": {},
   "outputs": [],
   "source": [
    "cube = lambda x:x**3\n",
    "    \n",
    "def fibonacci(n):\n",
    "    if n<2:\n",
    "        return range(n)\n",
    "    init = [0,1]\n",
    "    for i in range(0,n-2):\n",
    "        add =init[i+1]+init[i]\n",
    "        init.append(add)\n",
    "    return(init)"
   ]
  },
  {
   "cell_type": "code",
   "execution_count": null,
   "id": "0a839184-0233-4cb3-ba90-f6cd7968bc86",
   "metadata": {},
   "outputs": [],
   "source": [
    "t=int(input())\n",
    "def float_(string):\n",
    "    try :\n",
    "        float(string)\n",
    "        return True\n",
    "    except ValueError:\n",
    "        return False\n",
    "\n",
    "for i in range(t):\n",
    "    string=input().strip()\n",
    "    if string=='0':\n",
    "        print(False)\n",
    "    else:\n",
    "        a=float_(string)\n",
    "        print(a)"
   ]
  },
  {
   "cell_type": "code",
   "execution_count": null,
   "id": "7cb171a1-0d6b-459a-9d80-c69542161366",
   "metadata": {},
   "outputs": [],
   "source": [
    "regex_pattern = r\"[.,]+\""
   ]
  },
  {
   "cell_type": "code",
   "execution_count": null,
   "id": "27e43277-15b1-4f00-87e9-889ad0dc9847",
   "metadata": {},
   "outputs": [],
   "source": [
    "import re\n",
    "\n",
    "import re\n",
    "m = re.search(r\"([a-z0-9])\\1+\",input())\n",
    "if m:\n",
    "    print(m.group(1))\n",
    "else:\n",
    "    print(-1)"
   ]
  },
  {
   "cell_type": "code",
   "execution_count": null,
   "id": "b2f1cc1f-cd83-4beb-af52-dfbf8bc15dd1",
   "metadata": {},
   "outputs": [],
   "source": [
    "import re \n",
    "v = 'aeiou'\n",
    "c = 'qwrtypsdfghjklzxcvbnm'\n",
    "H = re.findall(r\"(?<=[%s])([%s]{2,})[%s]\" % (c, v, c), input(), flags = re.I)\n",
    "if H:\n",
    "    print(*H, sep='\\n')\n",
    "else:\n",
    "    print('-1')"
   ]
  },
  {
   "cell_type": "code",
   "execution_count": null,
   "id": "4728ac56-1754-4037-8214-3b3c659cf384",
   "metadata": {},
   "outputs": [],
   "source": [
    "import re\n",
    "s =input()\n",
    "k=input()\n",
    "m= list(re.finditer('(?=('+k+'))',s))\n",
    "if not m:\n",
    "    print((-1,-1))\n",
    "for i in m:\n",
    "    print((i.start(1),i.end(1)-1))"
   ]
  },
  {
   "cell_type": "code",
   "execution_count": null,
   "id": "0b8aca1f-69c0-4af6-ae2e-828538a4ecee",
   "metadata": {},
   "outputs": [],
   "source": [
    "import re\n",
    "n=int(input())\n",
    "for i in range(n):\n",
    "    line=input()\n",
    "    line=re.sub(r'(?<= )(&&)(?= )', 'and', line)\n",
    "    line=re.sub(r'(?<= )(\\|\\|)(?= )', 'or', line)\n",
    "    print(line)"
   ]
  },
  {
   "cell_type": "code",
   "execution_count": null,
   "id": "94cdea2d-d382-4903-836b-e8d2dc5678fa",
   "metadata": {},
   "outputs": [],
   "source": [
    "regex_pattern = r\"^(?=[MDCLXVI])M{0,3}(CM|CD|D?C{0,3})(XC|XL|L?X{0,3})(IX|IV|V?I{0,3})$\""
   ]
  },
  {
   "cell_type": "code",
   "execution_count": null,
   "id": "0167d062-0c01-4d21-a3df-cf3a08faf94a",
   "metadata": {},
   "outputs": [],
   "source": [
    "import re\n",
    "N = int(input())\n",
    "for i in range(N):\n",
    "    if(re.match(\"^[789]{1}([0-9]{9})$\", input())):\n",
    "        print(\"YES\")\n",
    "    else:\n",
    "        print(\"NO\")"
   ]
  },
  {
   "cell_type": "code",
   "execution_count": null,
   "id": "84eb0a2d-fd01-4fac-80b2-5e2d46b1dac8",
   "metadata": {},
   "outputs": [],
   "source": [
    "import re\n",
    "n=int(input())\n",
    "\n",
    "for i in range(n):\n",
    "    name,adresse=input().split()\n",
    "    if re.match(r'<[a-zA-Z](\\w|\\.|\\-){1,}@[a-zA-Z]{1,}\\.[a-zA-Z]{1,3}>',adresse):\n",
    "        print(\"{} {}\".format(name,adresse))"
   ]
  },
  {
   "cell_type": "code",
   "execution_count": null,
   "id": "61aa1b0f-4787-4df3-802e-97145424c31d",
   "metadata": {},
   "outputs": [],
   "source": [
    "import re\n",
    "N = int(input())\n",
    "for i in range(N):\n",
    "    a = input()\n",
    "    b = re.findall(r':?.(#[0-9a-fA-F]{6}|#[0-9a-fA-F]{3})', a, flags = re.I)\n",
    "    for j in b:\n",
    "        print(j)"
   ]
  },
  {
   "cell_type": "code",
   "execution_count": null,
   "id": "b954c50e-04db-4b6a-8b7f-5b1413eff4ff",
   "metadata": {},
   "outputs": [],
   "source": [
    "from html.parser import HTMLParser\n",
    "class parse(HTMLParser):\n",
    "        def handle_starttag(self, tag, attrs):\n",
    "            print(' '.join([\"Start :\", tag]))\n",
    "            for i in attrs:\n",
    "                print(\"-> {} > {}\".format(i[0], i[1]))\n",
    "        def handle_endtag(self, tag):\n",
    "            print(' '.join([\"End   :\", tag]))\n",
    "        def handle_startendtag(self, tag, attrs):\n",
    "            print(' '.join([\"Empty :\", tag]))\n",
    "            for i in attrs:\n",
    "                print(\"-> {} > {}\".format(i[0], i[1]))\n",
    "    \n",
    "p = parse()\n",
    "for _ in range(int(input())):\n",
    "        p.feed(input())"
   ]
  },
  {
   "cell_type": "code",
   "execution_count": null,
   "id": "6fad8c87-ad9a-4579-a91a-68a38a72070b",
   "metadata": {},
   "outputs": [],
   "source": [
    "from html.parser import HTMLParser\n",
    "\n",
    "\n",
    "class MyHTMLParser(HTMLParser):\n",
    "    def handle_comment(self, data):\n",
    "        if data != \"\\n\":\n",
    "            if \"\\n\" not in data:\n",
    "                print(\">>> Single-line Comment\")\n",
    "                print(data)\n",
    "            else:\n",
    "                print(\">>> Multi-line Comment\")\n",
    "                print(data)\n",
    "\n",
    "    def handle_data(self, data):\n",
    "        if data != \"\\n\":\n",
    "            print(\">>> Data\")\n",
    "            print(data)\n",
    "html = \"\"\n",
    "for i in range(int(input())):\n",
    "    html += input().rstrip()\n",
    "    html += '\\n'\n",
    "\n",
    "parser = MyHTMLParser()\n",
    "parser.feed(html)\n",
    "parser.close()\n"
   ]
  },
  {
   "cell_type": "code",
   "execution_count": null,
   "id": "807c6842-4101-452a-ad33-f7398d390215",
   "metadata": {},
   "outputs": [],
   "source": [
    "from html.parser import HTMLParser\n",
    "class parse(HTMLParser):\n",
    "        def handle_starttag(self, tag, attrs):\n",
    "            print(tag)\n",
    "            for i in attrs:\n",
    "                print(\"-> {} > {}\".format(i[0], i[1]))    \n",
    "p = parse()\n",
    "for _ in range(int(input())):\n",
    "        p.feed(input())"
   ]
  },
  {
   "cell_type": "code",
   "execution_count": null,
   "id": "fdf2d302-1693-41f6-afb4-5674452378d7",
   "metadata": {},
   "outputs": [],
   "source": [
    "import re\n",
    "for _ in range(int(input())):\n",
    "    line = input()\n",
    "    if all([re.match(r'^(\\w{10})*$', line),\n",
    "            re.match(r'(\\w*[A-Z]){2}', line),\n",
    "            re.match(r'(\\w*[0-9]){3}', line),\n",
    "            not re.match(r'\\w*(\\w)\\w*\\1', line)]):\n",
    "            print('Valid')\n",
    "    else:\n",
    "            print('Invalid')"
   ]
  },
  {
   "cell_type": "code",
   "execution_count": null,
   "id": "ba0cb562-6847-4cb1-b620-d201eeefeaa3",
   "metadata": {},
   "outputs": [],
   "source": [
    "import re\n",
    "for _ in range(int(input())):\n",
    "    num = input()\n",
    "    if re.match(r'^([456]\\d{3})(\\-?)(\\d{4})(\\2)(\\d{4})(\\2)(\\d{4})$', num):\n",
    "        num = num.replace('-', '')\n",
    "        if re.match(r'^(?:([0-9])(?!\\1{3,})){16}$', num):\n",
    "            print(\"Valid\")\n",
    "        else:\n",
    "            print('Invalid')\n",
    "    else:\n",
    "        print(\"Invalid\")"
   ]
  },
  {
   "cell_type": "code",
   "execution_count": null,
   "id": "c6ae1c08-6a99-49fe-a429-0acce75ec54c",
   "metadata": {},
   "outputs": [],
   "source": [
    "def get_attr_number(node):\n",
    "    count = 0\n",
    "    for tag in node:\n",
    "        count = count + get_attr_number(tag)\n",
    "    return count + len(node.attrib)"
   ]
  },
  {
   "cell_type": "code",
   "execution_count": null,
   "id": "7f77041b-edd9-42b2-a392-2528e5520569",
   "metadata": {},
   "outputs": [],
   "source": [
    "maxdepth = 0\n",
    "def depth(elem, level):\n",
    "    global maxdepth\n",
    "    level += 1\n",
    "    if (maxdepth < level):\n",
    "        maxdepth = level\n",
    "    for child in elem:\n",
    "        depth(child, level)"
   ]
  },
  {
   "cell_type": "code",
   "execution_count": null,
   "id": "45602d1d-b8ba-4831-a55f-b9852890ba4f",
   "metadata": {},
   "outputs": [],
   "source": [
    "def wrapper(f):\n",
    "    def fun(l):\n",
    "        a=['+91 {} {}'.format(i[-10: -5], i[-5:]) for i in l]\n",
    "        return f(a)\n",
    "    return fun"
   ]
  },
  {
   "cell_type": "code",
   "execution_count": null,
   "id": "658d5fcd-ae7e-4b81-86f8-0b210ba75882",
   "metadata": {},
   "outputs": [],
   "source": [
    "def person_lister(f):\n",
    "    def inner(people):\n",
    "        return map(f, sorted(people, key=lambda x: int(x[2])))\n",
    "    return inner"
   ]
  },
  {
   "cell_type": "code",
   "execution_count": null,
   "id": "eac1315c-0fe0-42b8-a765-a6c6603882e0",
   "metadata": {},
   "outputs": [],
   "source": [
    "def arrays(arr):\n",
    "    arr1 = numpy.array(arr, dtype = float)\n",
    "    arr2 = numpy.array(arr[::-1], dtype = float)\n",
    "    return arr2"
   ]
  },
  {
   "cell_type": "code",
   "execution_count": null,
   "id": "ce399366-fae6-4341-8fb0-aa771a629c94",
   "metadata": {},
   "outputs": [],
   "source": [
    "import numpy\n",
    "lis = numpy.array(input().split(' '), int)\n",
    "print (lis.reshape(3, 3))"
   ]
  },
  {
   "cell_type": "code",
   "execution_count": null,
   "id": "d5c2121f-ea69-4ec5-8419-7ce7554582fa",
   "metadata": {},
   "outputs": [],
   "source": [
    "import numpy as np\n",
    "N, M = map(int, input().split())\n",
    "a = np.array([input().strip().split() for i in range(N)],int)\n",
    "print (np.transpose(a))\n",
    "print (a.flatten())"
   ]
  },
  {
   "cell_type": "code",
   "execution_count": null,
   "id": "5e6d8222-39c2-4e26-b3f5-31b2af2f9364",
   "metadata": {},
   "outputs": [],
   "source": [
    "import numpy as np\n",
    "N,M,P = map(int, input().split())\n",
    "a = np.array([input().strip().split() for i in range(N)],int)\n",
    "b = np.array([input().strip().split() for i in range(M)],int)\n",
    "print (np.concatenate((a,b), axis = 0))"
   ]
  },
  {
   "cell_type": "code",
   "execution_count": null,
   "id": "78260cc8-d8ea-4344-8c94-d46ec4d3b15d",
   "metadata": {},
   "outputs": [],
   "source": [
    "import numpy\n",
    "def arrays(arr):\n",
    "    arr1 = numpy.array(arr, dtype = int)\n",
    "    arr2 = numpy.zeros(arr1, dtype = int)\n",
    "    arr3 = numpy.ones(arr1, dtype = int)\n",
    "    return arr2, arr3\n",
    "\n",
    "arr = input().strip().split(' ')\n",
    "arr2, arr3 = arrays(arr)\n",
    "\n",
    "print(arr2)\n",
    "print(arr3)"
   ]
  },
  {
   "cell_type": "code",
   "execution_count": null,
   "id": "057e7d04-fbde-4e4e-8635-5c3e1bd33903",
   "metadata": {},
   "outputs": [],
   "source": [
    "import numpy\n",
    "\n",
    "numpy.set_printoptions(sign=' ')\n",
    "\n",
    "N, M = map(int, input().split())\n",
    "eye = numpy.eye(N, M)\n",
    "print(eye)"
   ]
  },
  {
   "cell_type": "code",
   "execution_count": null,
   "id": "d1dfc3d1-5058-40f5-8b26-e1be743f9f54",
   "metadata": {},
   "outputs": [],
   "source": [
    "import numpy as np\n",
    "N, M = map(int, input().split())\n",
    "a = np.array([input().strip().split()for i in range(N)],int) #i in range N becayuse i can have more linesd in a vector\n",
    "b = np.array([input().strip().split() for i in range(N)],int)\n",
    "print(a+b)\n",
    "print(a-b)\n",
    "print(a*b)\n",
    "print(a//b)\n",
    "print(a%b)\n",
    "print(a**b)"
   ]
  },
  {
   "cell_type": "code",
   "execution_count": null,
   "id": "5e081a39-fc88-45e7-aa7b-41dd18e29f58",
   "metadata": {},
   "outputs": [],
   "source": [
    "import numpy as np\n",
    "np.set_printoptions(sign=' ')\n",
    "a = np.array(input().strip().split(), dtype = 'float64')\n",
    "print(np.floor(a))\n",
    "print(np.ceil(a))\n",
    "print(np.rint(a))"
   ]
  },
  {
   "cell_type": "code",
   "execution_count": null,
   "id": "7eed72b5-a3b4-4b6c-943e-23b7213fb694",
   "metadata": {},
   "outputs": [],
   "source": [
    "import numpy as np\n",
    "N, M = map(int, input().split())\n",
    "a = np.array([input().strip().split() for i in range(M)], dtype = 'int')\n",
    "print(np.prod(np.sum(a,axis = 0), axis = 0))"
   ]
  },
  {
   "cell_type": "code",
   "execution_count": null,
   "id": "5c79d1e9-d12a-450c-94a4-4f4b44c7b820",
   "metadata": {},
   "outputs": [],
   "source": [
    "import numpy as np\n",
    "N, M = map(int, input().split())\n",
    "a = np.array([input().strip().split() for i in range(M)], dtype = 'int')\n",
    "print(np.max(np.min(a,axis = 1)))"
   ]
  },
  {
   "cell_type": "code",
   "execution_count": null,
   "id": "7515eeaf-e072-4e23-83f0-93da7304025b",
   "metadata": {},
   "outputs": [],
   "source": [
    "mean"
   ]
  },
  {
   "cell_type": "code",
   "execution_count": null,
   "id": "73f65a35-09d2-4cba-b819-cd8bd190a417",
   "metadata": {},
   "outputs": [],
   "source": [
    "import numpy as np\n",
    "N = int(input())\n",
    "a = np.array([input().strip().split()for i in range(N)],int) \n",
    "b = np.array([input().strip().split() for i in range(N)],int)\n",
    "print(np.dot(a,b))"
   ]
  },
  {
   "cell_type": "code",
   "execution_count": null,
   "id": "ed4abe03-536d-48bd-8024-997b0ebd4170",
   "metadata": {},
   "outputs": [],
   "source": [
    "import numpy as np\n",
    "a = np.array(input().strip().split(),int) \n",
    "b = np.array(input().strip().split(),int)\n",
    "print(np.inner(a,b))\n",
    "print(np.outer(a,b))"
   ]
  },
  {
   "cell_type": "code",
   "execution_count": null,
   "id": "85a3d33a-a088-4e9b-9fca-b28be9ef980c",
   "metadata": {},
   "outputs": [],
   "source": [
    "import numpy as np\n",
    "a = np.array(input().strip().split(),dtype = 'float64') \n",
    "x = int(input())\n",
    "print(np.polyval(a,x))"
   ]
  },
  {
   "cell_type": "code",
   "execution_count": null,
   "id": "c95b8cb5-ed8d-4789-99fd-bfec783fa476",
   "metadata": {},
   "outputs": [],
   "source": [
    "import numpy as np\n",
    "N = int(input())\n",
    "np.set_printoptions(legacy='1.13') #THE USUAL UNSPECIFIED PRINT OPTION\n",
    "a = np.array([input().strip().split()for i in range(N)],dtype = \"float64\") \n",
    "print(np.linalg.det(a))"
   ]
  },
  {
   "cell_type": "code",
   "execution_count": null,
   "id": "536491ae-9019-40ef-a936-555c401f7974",
   "metadata": {},
   "outputs": [],
   "source": [
    "#Birthday Cake Candles\n",
    "\n",
    "import math\n",
    "import os\n",
    "import random\n",
    "import re\n",
    "import sys\n",
    "\n",
    "def birthdayCakeCandles(candles):\n",
    "    max_size = max(candles)\n",
    "    counter = 0\n",
    "    for candle in candles:\n",
    "        if candle == max_size:\n",
    "            counter += 1\n",
    "    return counter\n",
    "if __name__ == '__main__':\n",
    "    fptr = open(os.environ['OUTPUT_PATH'], 'w')\n",
    "\n",
    "    candles_count = int(input().strip())\n",
    "\n",
    "    candles = list(map(int, input().rstrip().split()))\n",
    "\n",
    "    result = birthdayCakeCandles(candles)\n",
    "\n",
    "    fptr.write(str(result) + '\\n')\n",
    "\n",
    "    fptr.close()"
   ]
  },
  {
   "cell_type": "code",
   "execution_count": null,
   "id": "5fffe89d-d17f-4265-ac44-e895b611149d",
   "metadata": {},
   "outputs": [],
   "source": [
    "import math\n",
    "import os\n",
    "import random\n",
    "import re\n",
    "import sys\n",
    "\n",
    "#\n",
    "# Complete the 'kangaroo' function below.\n",
    "#\n",
    "# The function is expected to return a STRING.\n",
    "# The function accepts following parameters:\n",
    "#  1. INTEGER x1\n",
    "#  2. INTEGER v1\n",
    "#  3. INTEGER x2\n",
    "#  4. INTEGER v2\n",
    "#\n",
    "\n",
    "def kangaroo(x1, v1, x2, v2):\n",
    "    # Write your code here\n",
    "    for n in range(10000):\n",
    "        if(x1 + v1 == x2 + v2):\n",
    "            return \"YES\"\n",
    "        x1 += v1\n",
    "        x2 += v2\n",
    "    return \"NO\"\n",
    "    \n",
    "\n",
    "if __name__ == '__main__':\n",
    "    fptr = open(os.environ['OUTPUT_PATH'], 'w')\n",
    "\n",
    "    first_multiple_input = input().rstrip().split()\n",
    "\n",
    "    x1 = int(first_multiple_input[0])\n",
    "\n",
    "    v1 = int(first_multiple_input[1])\n",
    "\n",
    "    x2 = int(first_multiple_input[2])\n",
    "\n",
    "    v2 = int(first_multiple_input[3])\n",
    "\n",
    "    result = kangaroo(x1, v1, x2, v2)\n",
    "\n",
    "    fptr.write(result + '\\n')\n",
    "\n",
    "    fptr.close()"
   ]
  },
  {
   "cell_type": "code",
   "execution_count": null,
   "id": "978f62fb-2dd3-414f-aecf-de430a5fef3f",
   "metadata": {},
   "outputs": [],
   "source": [
    "import math\n",
    "import os\n",
    "import random\n",
    "import re\n",
    "import sys\n",
    "\n",
    "# Complete the viralAdvertising function below.\n",
    "def viralAdvertising(n):\n",
    "    shared = 5\n",
    "    ans = 0\n",
    "    for i in range(1, n + 1):\n",
    "        liked = shared // 2\n",
    "        ans += liked\n",
    "        shared = liked * 3\n",
    "    return ans\n",
    "\n",
    "if __name__ == '__main__':\n",
    "    fptr = open(os.environ['OUTPUT_PATH'], 'w')\n",
    "\n",
    "    n = int(input())\n",
    "\n",
    "    result = viralAdvertising(n)\n",
    "\n",
    "    fptr.write(str(result) + '\\n')\n",
    "\n",
    "    fptr.close()"
   ]
  },
  {
   "cell_type": "code",
   "execution_count": null,
   "id": "0d08cf13-2a8a-4322-a3c3-bdf75e180015",
   "metadata": {},
   "outputs": [],
   "source": []
  },
  {
   "cell_type": "code",
   "execution_count": null,
   "id": "6862b1b6-5a88-42b5-85d3-091b5560fcd8",
   "metadata": {},
   "outputs": [],
   "source": []
  }
 ],
 "metadata": {
  "kernelspec": {
   "display_name": "Python 3",
   "language": "python",
   "name": "python3"
  },
  "language_info": {
   "codemirror_mode": {
    "name": "ipython",
    "version": 3
   },
   "file_extension": ".py",
   "mimetype": "text/x-python",
   "name": "python",
   "nbconvert_exporter": "python",
   "pygments_lexer": "ipython3",
   "version": "3.8.8"
  }
 },
 "nbformat": 4,
 "nbformat_minor": 5
}
